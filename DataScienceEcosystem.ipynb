{
 "cells": [
  {
   "cell_type": "markdown",
   "id": "f25817f3-71e2-4adb-9f46-c232e7f53e21",
   "metadata": {
    "tags": []
   },
   "source": [
    "# Data Science Tools and Ecosystem"
   ]
  },
  {
   "cell_type": "markdown",
   "id": "0ffcef9a-95f1-45c4-a9d6-8639de27c40f",
   "metadata": {},
   "source": [
    "In this notebook, Data Science Tools and Ecosystem are summarized."
   ]
  },
  {
   "cell_type": "markdown",
   "id": "3ebc7367-9d00-4a0a-91ad-564f0290b904",
   "metadata": {},
   "source": [
    "**Objectives:**"
   ]
  },
  {
   "cell_type": "markdown",
   "id": "d00b1a32-a75e-4459-8264-7564e46b0d5e",
   "metadata": {},
   "source": [
    "+ List popular languages for Data Science\n",
    "+ Commonly used libraries used by Data Scientists\n",
    "+ Data Science tools\n",
    "+ Arithmetic expression examples"
   ]
  },
  {
   "cell_type": "markdown",
   "id": "9cbbbdf7-456a-4c83-8156-8d53912a3999",
   "metadata": {},
   "source": [
    "Some of the popular languages that Data Scientists use are:"
   ]
  },
  {
   "cell_type": "markdown",
   "id": "d878e82b-416f-40eb-add3-bfe921466272",
   "metadata": {
    "tags": []
   },
   "source": [
    "1. Python\n",
    "2. R\n",
    "3. Julia\n",
    "4. Java\n",
    "5. C++\n",
    "6. Swift\n",
    "7. Go\n",
    "8. SQL\n",
    "9. MATLAB"
   ]
  },
  {
   "cell_type": "markdown",
   "id": "f2f465a8-b4fd-46ed-b396-4c5e0f990d5b",
   "metadata": {},
   "source": [
    "Some of the commonly used libraries used by Data Scientists include:"
   ]
  },
  {
   "cell_type": "markdown",
   "id": "72501d83-987f-4426-af7a-6a2a2ce1f000",
   "metadata": {},
   "source": [
    "1. NumPy\n",
    "2. Matplotlib\n",
    "3. Pandas\n",
    "4. Plotly\n",
    "5. Seaborn\n",
    "6. Scikit-Learn\n",
    "7. PyCaret\n",
    "8. TensorFlow\n",
    "9. PyTorch"
   ]
  },
  {
   "cell_type": "markdown",
   "id": "a5787b66-4e50-4c05-928a-d9a19a5feb2e",
   "metadata": {},
   "source": [
    "|Data Science Tools|\n",
    "| -------------|\n",
    "| Jupyter Notebook |\n",
    "| R Studio |\n",
    "| Apache Spark |"
   ]
  },
  {
   "cell_type": "markdown",
   "id": "4890fe36-bcb4-4b16-a2a9-f6242a996841",
   "metadata": {},
   "source": [
    "### Below are a few examples of evaluating arithmetic expressions in Python"
   ]
  },
  {
   "cell_type": "markdown",
   "id": "486a0c94-2f06-42a7-a478-9f955ba28719",
   "metadata": {},
   "source": [
    "This a simple arithmetic expression to mutiply then add integers"
   ]
  },
  {
   "cell_type": "code",
   "execution_count": 5,
   "id": "21a45b71-bf5e-44d4-8f7f-e3f4ee62dc83",
   "metadata": {
    "tags": []
   },
   "outputs": [
    {
     "data": {
      "text/plain": [
       "17"
      ]
     },
     "execution_count": 5,
     "metadata": {},
     "output_type": "execute_result"
    }
   ],
   "source": [
    "(3*4)+5"
   ]
  },
  {
   "cell_type": "markdown",
   "id": "cacadd8d-3246-4285-b6af-499d05e77e61",
   "metadata": {},
   "source": [
    "This will convert 200 minutes to hours by diving by 60"
   ]
  },
  {
   "cell_type": "code",
   "execution_count": 9,
   "id": "4dfcfbea-27b6-421d-9fde-c1f7bf0c9c77",
   "metadata": {
    "tags": []
   },
   "outputs": [
    {
     "data": {
      "text/plain": [
       "3.3333333333333335"
      ]
     },
     "execution_count": 9,
     "metadata": {},
     "output_type": "execute_result"
    }
   ],
   "source": [
    "200/60"
   ]
  },
  {
   "cell_type": "markdown",
   "id": "ea9b50c2-f039-4d32-a701-5139f91a7d2c",
   "metadata": {},
   "source": [
    "## Author: \n",
    "Josué Quirós Batista"
   ]
  }
 ],
 "metadata": {
  "kernelspec": {
   "display_name": "Python",
   "language": "python",
   "name": "conda-env-python-py"
  },
  "language_info": {
   "codemirror_mode": {
    "name": "ipython",
    "version": 3
   },
   "file_extension": ".py",
   "mimetype": "text/x-python",
   "name": "python",
   "nbconvert_exporter": "python",
   "pygments_lexer": "ipython3",
   "version": "3.7.12"
  }
 },
 "nbformat": 4,
 "nbformat_minor": 5
}
